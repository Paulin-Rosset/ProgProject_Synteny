{
 "cells": [
  {
   "cell_type": "markdown",
   "id": "ff6ae72d-ec0d-4eac-9595-298bba9be3ad",
   "metadata": {},
   "source": [
    "# Interface Graphique : Projet Python"
   ]
  },
  {
   "cell_type": "markdown",
   "id": "0c068c38-58c4-4ce1-895d-83445c7c945d",
   "metadata": {},
   "source": [
    "## Bienvenue dans l'interface utilisateur !\n",
    "\n",
    "---\n",
    "**Avant de commencer :**\n",
    "\n",
    "**Etape 0** : Si vous lancez l'interface pour la première fois veuillez exécuter les codes suivants, sinon reportez vous au prochain paragraphe :"
   ]
  },
  {
   "cell_type": "code",
   "execution_count": 2,
   "id": "c4d42013-2a1b-487e-8fb3-176555daf49b",
   "metadata": {
    "collapsed": true,
    "jupyter": {
     "outputs_hidden": true
    }
   },
   "outputs": [
    {
     "name": "stdout",
     "output_type": "stream",
     "text": [
      "Defaulting to user installation because normal site-packages is not writeable\n",
      "Requirement already satisfied: pygenomeviz in /comptes/b/bj104690/.local/lib/python3.8/site-packages (0.4.4)\n",
      "Requirement already satisfied: biopython>=1.79 in /comptes/b/bj104690/.local/lib/python3.8/site-packages (from pygenomeviz) (1.81)\n",
      "Requirement already satisfied: matplotlib>=3.5.2 in /usr/local/anaconda3/lib/python3.8/site-packages (from pygenomeviz) (3.7.1)\n",
      "Requirement already satisfied: numpy>=1.21 in /comptes/b/bj104690/.local/lib/python3.8/site-packages (from pygenomeviz) (1.24.4)\n",
      "Requirement already satisfied: contourpy>=1.0.1 in /usr/local/anaconda3/lib/python3.8/site-packages (from matplotlib>=3.5.2->pygenomeviz) (1.0.5)\n",
      "Requirement already satisfied: cycler>=0.10 in /usr/local/anaconda3/lib/python3.8/site-packages (from matplotlib>=3.5.2->pygenomeviz) (0.11.0)\n",
      "Requirement already satisfied: fonttools>=4.22.0 in /usr/local/anaconda3/lib/python3.8/site-packages (from matplotlib>=3.5.2->pygenomeviz) (4.25.0)\n",
      "Requirement already satisfied: kiwisolver>=1.0.1 in /usr/local/anaconda3/lib/python3.8/site-packages (from matplotlib>=3.5.2->pygenomeviz) (1.4.4)\n",
      "Requirement already satisfied: packaging>=20.0 in /comptes/b/bj104690/.local/lib/python3.8/site-packages (from matplotlib>=3.5.2->pygenomeviz) (23.1)\n",
      "Requirement already satisfied: pillow>=6.2.0 in /usr/local/anaconda3/lib/python3.8/site-packages (from matplotlib>=3.5.2->pygenomeviz) (9.4.0)\n",
      "Requirement already satisfied: pyparsing>=2.3.1 in /usr/local/anaconda3/lib/python3.8/site-packages (from matplotlib>=3.5.2->pygenomeviz) (3.0.9)\n",
      "Requirement already satisfied: python-dateutil>=2.7 in /usr/local/anaconda3/lib/python3.8/site-packages (from matplotlib>=3.5.2->pygenomeviz) (2.8.2)\n",
      "Requirement already satisfied: importlib-resources>=3.2.0 in /comptes/b/bj104690/.local/lib/python3.8/site-packages (from matplotlib>=3.5.2->pygenomeviz) (6.1.0)\n",
      "Requirement already satisfied: zipp>=3.1.0 in /comptes/b/bj104690/.local/lib/python3.8/site-packages (from importlib-resources>=3.2.0->matplotlib>=3.5.2->pygenomeviz) (3.17.0)\n",
      "Requirement already satisfied: six>=1.5 in /usr/local/anaconda3/lib/python3.8/site-packages (from python-dateutil>=2.7->matplotlib>=3.5.2->pygenomeviz) (1.16.0)\n",
      "\n",
      "\u001b[1m[\u001b[0m\u001b[34;49mnotice\u001b[0m\u001b[1;39;49m]\u001b[0m\u001b[39;49m A new release of pip is available: \u001b[0m\u001b[31;49m23.3\u001b[0m\u001b[39;49m -> \u001b[0m\u001b[32;49m23.3.1\u001b[0m\n",
      "\u001b[1m[\u001b[0m\u001b[34;49mnotice\u001b[0m\u001b[1;39;49m]\u001b[0m\u001b[39;49m To update, run: \u001b[0m\u001b[32;49m/usr/local/anaconda3/bin/python -m pip install --upgrade pip\u001b[0m\n",
      "Note: you may need to restart the kernel to use updated packages.\n"
     ]
    }
   ],
   "source": [
    "pip install pygenomeviz"
   ]
  },
  {
   "cell_type": "markdown",
   "id": "5f9caec8-7132-4416-b3f7-46f953ed66c5",
   "metadata": {},
   "source": [
    "**Etape 1** : Veuillez lancer ce code qui importe les ```modules``` nécessaires pour ce ```notebook``` :"
   ]
  },
  {
   "cell_type": "code",
   "execution_count": 2,
   "id": "de1ab651-3fce-4f99-93ce-1a91d9e56b54",
   "metadata": {},
   "outputs": [],
   "source": [
    "import ipywidgets as widgets\n",
    "from ipywidgets import interact\n",
    "from IPython.display import HTML"
   ]
  },
  {
   "cell_type": "markdown",
   "id": "8717ee69-ca38-4565-a20c-ddd8d849a403",
   "metadata": {},
   "source": [
    "**Etape 2** : Ce Notebook se compose de deux parties : \n",
    "- Une partie ```Tkinter``` où il vous suffit de lancer une cellule de code pour qu'une interface utilisateur vous permettant d'observer la synténie sur une protéine d'intérêt dans un génome de référence.\n",
    "- Une partie backup où vous pouvez en rentrant vos données sur ce notebook directement ou cas où vous rencontriez des difficultés avec l'interface ```Tkinter```.\n",
    "\n",
    "---"
   ]
  },
  {
   "cell_type": "markdown",
   "id": "c2811527-3b85-4a3c-9d82-b545d1990c38",
   "metadata": {},
   "source": [
    "# Interface Tkinter :"
   ]
  },
  {
   "cell_type": "markdown",
   "id": "acb00d91-3236-4863-b07e-eee66a2ecea5",
   "metadata": {},
   "source": [
    "Veuillez exécuter le code suivant pour faire apparaître l'interface :"
   ]
  },
  {
   "cell_type": "code",
   "execution_count": null,
   "id": "75c48ae4-5248-42a9-ab23-7a3db170137f",
   "metadata": {},
   "outputs": [],
   "source": [
    "run tk_script"
   ]
  },
  {
   "cell_type": "markdown",
   "id": "b918bde5-69b4-4c59-8652-e2b6fcc004d2",
   "metadata": {},
   "source": [
    "---"
   ]
  },
  {
   "cell_type": "markdown",
   "id": "86481309-1a15-481f-8d18-8cbba743b92e",
   "metadata": {},
   "source": [
    "# Interface Backup :"
   ]
  },
  {
   "cell_type": "markdown",
   "id": "685a6702-7684-4216-909f-b5456c4248d7",
   "metadata": {},
   "source": [
    "## Selection:"
   ]
  },
  {
   "cell_type": "markdown",
   "id": "4da0bc2c-fef7-473e-9ad5-cad023c2cdd5",
   "metadata": {},
   "source": [
    "Exemple de génome, protéine à utiliser :\n",
    "- Génome : GCF_001900435.1\n",
    "- Protéine : WP_000004024.1"
   ]
  },
  {
   "cell_type": "markdown",
   "id": "c677f7f7-3572-4695-9295-9b15604c456f",
   "metadata": {},
   "source": [
    "---\n",
    "\n",
    "### Sélections de la protéine et du génome :"
   ]
  },
  {
   "cell_type": "markdown",
   "id": "f81ab9d1-82b1-4642-a75d-009d613bc1f7",
   "metadata": {},
   "source": [
    "- #### Protéine :"
   ]
  },
  {
   "cell_type": "code",
   "execution_count": 2,
   "id": "350fec4e-fa59-4b3e-9ba3-ef0762f38df0",
   "metadata": {},
   "outputs": [
    {
     "data": {
      "application/vnd.jupyter.widget-view+json": {
       "model_id": "f9204d66f58443d6ae978bbd04f80c50",
       "version_major": 2,
       "version_minor": 0
      },
      "text/plain": [
       "interactive(children=(Text(value='', description='Proteine:', placeholder='Rentrez un ID de protéine'), Output…"
      ]
     },
     "metadata": {},
     "output_type": "display_data"
    }
   ],
   "source": [
    "selection_prot = widgets.Text(\n",
    "    placeholder='Rentrez un ID de protéine',\n",
    "    description='Proteine:',\n",
    "    disabled=False\n",
    ")\n",
    "def prot(x):\n",
    "    global proteine\n",
    "    proteine = x\n",
    "\n",
    "interact(prot, x = selection_prot);"
   ]
  },
  {
   "cell_type": "markdown",
   "id": "fd673a19-1520-4404-92c2-6fbb702fbd8c",
   "metadata": {},
   "source": [
    "- #### Génome :"
   ]
  },
  {
   "cell_type": "code",
   "execution_count": 3,
   "id": "261dcfae-bfb8-453f-82a2-3015ad30dbf0",
   "metadata": {},
   "outputs": [
    {
     "data": {
      "application/vnd.jupyter.widget-view+json": {
       "model_id": "911f3aa35da14209b0c79ecce6cf4729",
       "version_major": 2,
       "version_minor": 0
      },
      "text/plain": [
       "interactive(children=(Text(value='', description='Génome:', placeholder='Rentrez un ID de génome'), Output()),…"
      ]
     },
     "metadata": {},
     "output_type": "display_data"
    }
   ],
   "source": [
    "selection_gen = widgets.Text(\n",
    "    placeholder='Rentrez un ID de génome',\n",
    "    description='Génome:',\n",
    "    disabled=False\n",
    ")\n",
    "def gen(x):\n",
    "    global genome\n",
    "    genome = x\n",
    "\n",
    "interact(gen, x = selection_gen);"
   ]
  },
  {
   "cell_type": "markdown",
   "id": "91a411e1-e7dd-43b5-bf85-87af171d8549",
   "metadata": {},
   "source": [
    "---\n",
    "\n",
    "### Sélection de l'OS :"
   ]
  },
  {
   "cell_type": "code",
   "execution_count": 4,
   "id": "518773f7-6c3f-431e-84f1-1ed9d69aae59",
   "metadata": {
    "jupyter": {
     "source_hidden": true
    }
   },
   "outputs": [
    {
     "data": {
      "application/vnd.jupyter.widget-view+json": {
       "model_id": "71e7d1d326c24ef1865127d7f70aa0da",
       "version_major": 2,
       "version_minor": 0
      },
      "text/plain": [
       "interactive(children=(RadioButtons(description='OS:', options=(('Linux', 'linux'), ('Windows', 'win'), ('MacOS…"
      ]
     },
     "metadata": {},
     "output_type": "display_data"
    }
   ],
   "source": [
    "selection_os = widgets.RadioButtons(\n",
    "    options=[('Linux', 'linux'), ('Windows', 'win'), ('MacOS', 'macosx')],\n",
    "\n",
    "    description='OS:',\n",
    "    disabled=False\n",
    ")\n",
    "def os(x):\n",
    "    global my_os_type\n",
    "    my_os_type = x\n",
    "\n",
    "interact(os, x = selection_os);"
   ]
  },
  {
   "cell_type": "markdown",
   "id": "5b28d28c-e04a-434e-87cb-55301610453e",
   "metadata": {},
   "source": [
    "---\n",
    "\n",
    "## Run:"
   ]
  },
  {
   "cell_type": "code",
   "execution_count": 47,
   "id": "27273d25-6d37-4aec-b07b-3638c155b53b",
   "metadata": {},
   "outputs": [
    {
     "data": {
      "application/vnd.jupyter.widget-view+json": {
       "model_id": "e453ac3eb5e24176af331604b4e20312",
       "version_major": 2,
       "version_minor": 0
      },
      "text/plain": [
       "Button(description='Lancer le programme', style=ButtonStyle())"
      ]
     },
     "metadata": {},
     "output_type": "display_data"
    },
    {
     "data": {
      "application/vnd.jupyter.widget-view+json": {
       "model_id": "9a7314688b0345c39cbc3ca256b8c4e0",
       "version_major": 2,
       "version_minor": 0
      },
      "text/plain": [
       "Output()"
      ]
     },
     "metadata": {},
     "output_type": "display_data"
    }
   ],
   "source": [
    "button = widgets.Button(description=\"Lancer le programme\")\n",
    "output = widgets.Output()\n",
    "\n",
    "display(button, output)\n",
    "\n",
    "def on_button_clicked(b):\n",
    "    with output:\n",
    "        %run modulebackup.py $genome $proteine $my_os_type\n",
    "\n",
    "button.on_click(on_button_clicked)"
   ]
  },
  {
   "cell_type": "markdown",
   "id": "32de2f3d-b77b-4f67-815c-1177ad4e6813",
   "metadata": {},
   "source": [
    "---\n",
    "\n",
    "## Visualisation:"
   ]
  },
  {
   "cell_type": "markdown",
   "id": "77c46df0-3ee2-4765-8041-f8a02a0ae78c",
   "metadata": {},
   "source": [
    "Après avoir lancer le programme veuillez lançer celui-ci une fois fini pour observer la synténie:"
   ]
  },
  {
   "cell_type": "code",
   "execution_count": 46,
   "id": "1ff2741c-8830-49b7-a15c-2c61d81bb6f6",
   "metadata": {},
   "outputs": [
    {
     "data": {
      "application/vnd.jupyter.widget-view+json": {
       "model_id": "6b0d55c84c784193a85e54b69febee34",
       "version_major": 2,
       "version_minor": 0
      },
      "text/plain": [
       "Image(value=b'\\x89PNG\\r\\n\\x1a\\n\\x00\\x00\\x00\\rIHDR\\x00\\x00\\x07\\xa8\\x00\\x00\\x18\\x04\\x08\\x06\\x00\\x00\\x00g\\x9f\\xb3…"
      ]
     },
     "execution_count": 46,
     "metadata": {},
     "output_type": "execute_result"
    }
   ],
   "source": [
    "file = open(\"synt.png\", \"rb\")\n",
    "image = file.read()\n",
    "widgets.Image(\n",
    "    value=image,\n",
    "    format='png',\n",
    "    width=2000,\n",
    "    height=400,\n",
    ")"
   ]
  }
 ],
 "metadata": {
  "kernelspec": {
   "display_name": "Python 3 (ipykernel)",
   "language": "python",
   "name": "python3"
  },
  "language_info": {
   "codemirror_mode": {
    "name": "ipython",
    "version": 3
   },
   "file_extension": ".py",
   "mimetype": "text/x-python",
   "name": "python",
   "nbconvert_exporter": "python",
   "pygments_lexer": "ipython3",
   "version": "3.8.16"
  }
 },
 "nbformat": 4,
 "nbformat_minor": 5
}
