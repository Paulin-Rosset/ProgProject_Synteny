{
 "cells": [
  {
   "cell_type": "markdown",
   "id": "ff6ae72d-ec0d-4eac-9595-298bba9be3ad",
   "metadata": {},
   "source": [
    "# Interface Graphique : Projet Python"
   ]
  },
  {
   "cell_type": "markdown",
   "id": "5f9caec8-7132-4416-b3f7-46f953ed66c5",
   "metadata": {},
   "source": [
    "OS à importer:"
   ]
  },
  {
   "cell_type": "code",
   "execution_count": 47,
   "id": "de1ab651-3fce-4f99-93ce-1a91d9e56b54",
   "metadata": {},
   "outputs": [],
   "source": [
    "import ipywidgets as widgets\n",
    "from ipywidgets import interact\n",
    "from IPython.display import HTML"
   ]
  },
  {
   "cell_type": "markdown",
   "id": "685a6702-7684-4216-909f-b5456c4248d7",
   "metadata": {},
   "source": [
    "## Selection:"
   ]
  },
  {
   "cell_type": "code",
   "execution_count": null,
   "id": "1c707edc-238a-40a2-8917-879f1646f504",
   "metadata": {},
   "outputs": [],
   "source": [
    "#Exemple:\n",
    "#'GCF_001900435.1' 'WP_000004024.1' 'linux'"
   ]
  },
  {
   "cell_type": "markdown",
   "id": "c677f7f7-3572-4695-9295-9b15604c456f",
   "metadata": {},
   "source": [
    "### Pour faire les sélections de la protéine et du génome :"
   ]
  },
  {
   "cell_type": "markdown",
   "id": "f81ab9d1-82b1-4642-a75d-009d613bc1f7",
   "metadata": {},
   "source": [
    "- #### Protéine :"
   ]
  },
  {
   "cell_type": "code",
   "execution_count": 48,
   "id": "350fec4e-fa59-4b3e-9ba3-ef0762f38df0",
   "metadata": {},
   "outputs": [
    {
     "data": {
      "application/vnd.jupyter.widget-view+json": {
       "model_id": "ba64491ed8fa41b5826db93a9912af8c",
       "version_major": 2,
       "version_minor": 0
      },
      "text/plain": [
       "interactive(children=(Text(value='', description='Proteine:', placeholder='Rentrez un ID de protéine'), Output…"
      ]
     },
     "metadata": {},
     "output_type": "display_data"
    }
   ],
   "source": [
    "selection_prot = widgets.Text(\n",
    "    placeholder='Rentrez un ID de protéine',\n",
    "    description='Proteine:',\n",
    "    disabled=False\n",
    ")\n",
    "def prot(x):\n",
    "    global proteine\n",
    "    proteine = x\n",
    "\n",
    "interact(prot, x = selection_prot);"
   ]
  },
  {
   "cell_type": "code",
   "execution_count": 42,
   "id": "261dcfae-bfb8-453f-82a2-3015ad30dbf0",
   "metadata": {},
   "outputs": [
    {
     "data": {
      "application/vnd.jupyter.widget-view+json": {
       "model_id": "4188b29f39384160bd3bf02ce0227582",
       "version_major": 2,
       "version_minor": 0
      },
      "text/plain": [
       "interactive(children=(Text(value='', description='Génome:', placeholder='Rentrez un ID de génome'), Output()),…"
      ]
     },
     "metadata": {},
     "output_type": "display_data"
    }
   ],
   "source": [
    "selection_gen = widgets.Text(\n",
    "    placeholder='Rentrez un ID de génome',\n",
    "    description='Génome:',\n",
    "    disabled=False\n",
    ")\n",
    "def gen(x):\n",
    "    global genome\n",
    "    genome = x\n",
    "\n",
    "interact(gen, x = selection_gen);"
   ]
  },
  {
   "cell_type": "markdown",
   "id": "91a411e1-e7dd-43b5-bf85-87af171d8549",
   "metadata": {},
   "source": [
    "### Pour faire la sélection de l'OS :"
   ]
  },
  {
   "cell_type": "code",
   "execution_count": 15,
   "id": "518773f7-6c3f-431e-84f1-1ed9d69aae59",
   "metadata": {},
   "outputs": [],
   "source": [
    "selection_os = widgets.RadioButtons(\n",
    "    options=[('Linux', 'linux'), ('Windows', 'win'), ('MacOS', 'macosx')],\n",
    "\n",
    "    description='OS:',\n",
    "    disabled=False\n",
    ")"
   ]
  },
  {
   "cell_type": "code",
   "execution_count": 36,
   "id": "0b10dae0-1c1a-4571-aff3-301aabebb41f",
   "metadata": {},
   "outputs": [
    {
     "data": {
      "application/vnd.jupyter.widget-view+json": {
       "model_id": "f759dc10e86e4a299973e20437e6f9d1",
       "version_major": 2,
       "version_minor": 0
      },
      "text/plain": [
       "interactive(children=(RadioButtons(description='OS:', options=(('Linux', 'linux'), ('Windows', 'win'), ('MacOS…"
      ]
     },
     "metadata": {},
     "output_type": "display_data"
    }
   ],
   "source": [
    "def os(x):\n",
    "    global my_os_type\n",
    "    my_os_type = x\n",
    "\n",
    "interact(os, x = selection_os);"
   ]
  },
  {
   "cell_type": "markdown",
   "id": "5b28d28c-e04a-434e-87cb-55301610453e",
   "metadata": {},
   "source": [
    "## Test de run:"
   ]
  },
  {
   "cell_type": "code",
   "execution_count": 40,
   "id": "27273d25-6d37-4aec-b07b-3638c155b53b",
   "metadata": {},
   "outputs": [
    {
     "data": {
      "application/vnd.jupyter.widget-view+json": {
       "model_id": "7debf1d39f4444a49817ef32bc5530a9",
       "version_major": 2,
       "version_minor": 0
      },
      "text/plain": [
       "Button(description='Lancer le programme', style=ButtonStyle())"
      ]
     },
     "metadata": {},
     "output_type": "display_data"
    },
    {
     "data": {
      "application/vnd.jupyter.widget-view+json": {
       "model_id": "a2d878146d7045cabfce44a1f9a86628",
       "version_major": 2,
       "version_minor": 0
      },
      "text/plain": [
       "Output()"
      ]
     },
     "metadata": {},
     "output_type": "display_data"
    }
   ],
   "source": [
    "button = widgets.Button(description=\"Lancer le programme\")\n",
    "output = widgets.Output()\n",
    "\n",
    "display(button, output)\n",
    "\n",
    "def on_button_clicked(b):\n",
    "    with output:\n",
    "        %run projetmod.py $genome $proteine $my_os_type\n",
    "\n",
    "button.on_click(on_button_clicked)"
   ]
  }
 ],
 "metadata": {
  "kernelspec": {
   "display_name": "Python 3 (ipykernel)",
   "language": "python",
   "name": "python3"
  },
  "language_info": {
   "codemirror_mode": {
    "name": "ipython",
    "version": 3
   },
   "file_extension": ".py",
   "mimetype": "text/x-python",
   "name": "python",
   "nbconvert_exporter": "python",
   "pygments_lexer": "ipython3",
   "version": "3.8.16"
  }
 },
 "nbformat": 4,
 "nbformat_minor": 5
}
